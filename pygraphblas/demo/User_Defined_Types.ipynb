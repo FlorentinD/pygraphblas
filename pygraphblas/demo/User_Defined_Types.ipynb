{
 "cells": [
  {
   "cell_type": "code",
   "execution_count": 9,
   "metadata": {},
   "outputs": [
    {
     "name": "stdout",
     "output_type": "stream",
     "text": [
      "[[1], [1], [(0.4, 2, 2)]]\n"
     ]
    }
   ],
   "source": [
    "from numba import jit\n",
    "from pygraphblas import *\n",
    "        \n",
    "@udt\n",
    "class BF:\n",
    "    members = ['double w', 'uint64_t h', 'uint64_t pi']\n",
    " \n",
    "@jit \n",
    "def bf_eq(x, y):\n",
    "    if x.w == y.w and x.h == y.h and x.pi == y.pi:\n",
    "        return True\n",
    "    return False\n",
    "\n",
    "@jit \n",
    "def bf_assign(x, y):\n",
    "    x.w = y.w\n",
    "    x.h = y.h\n",
    "    x.pi = y.pi\n",
    "\n",
    "@BF.binop('min')\n",
    "def bf_min(z, x, y):\n",
    "    if (x.w < y.w \n",
    "        or x.w == y.w and x.h < y.h \n",
    "        or x.w == y.w and x.h == y.h and x.pi < y.pi):\n",
    "        if not bf_eq(z, x):\n",
    "            bf_assign(z, x)\n",
    "    else:\n",
    "        bf_assign(z, y)    \n",
    "    \n",
    "@BF.binop('plus')\n",
    "def bf_plus(z, x, y):\n",
    "    z.w = x.w + y.w\n",
    "    z.h = x.h = y.h\n",
    "    if x.pi != lib.UINT64_MAX and y.pi != 0:\n",
    "        z.pi = y.pi\n",
    "    else:\n",
    "        z.pi = x.pi\n",
    "    \n",
    "    \n",
    "min_op = BinaryOp('min', 'BF', bf_min, BF)\n",
    "plus_op = BinaryOp('plus', 'BF', bf_plus, BF)\n",
    "\n",
    "BF.add_op = min_op\n",
    "BF.mult_op = plus_op\n",
    "\n",
    "A = Matrix.from_type(BF, 10, 10)\n",
    "B = Matrix.from_type(BF, 10, 10)\n",
    "\n",
    "A[1,1] = (0.4, 2, 9)\n",
    "B[1,1] = (0.4, 2, 2)\n",
    "\n",
    "with min_op:\n",
    "    print((A + B).to_lists())"
   ]
  },
  {
   "cell_type": "code",
   "execution_count": null,
   "metadata": {},
   "outputs": [],
   "source": [
    "@udt\n",
    "class BF:\n",
    "    members = ['double w', 'uint64_t h', 'uint64_t p']"
   ]
  },
  {
   "cell_type": "code",
   "execution_count": null,
   "metadata": {},
   "outputs": [],
   "source": []
  }
 ],
 "metadata": {
  "celltoolbar": "Slideshow",
  "kernelspec": {
   "display_name": "Python 3",
   "language": "python",
   "name": "python3"
  },
  "language_info": {
   "codemirror_mode": {
    "name": "ipython",
    "version": 3
   },
   "file_extension": ".py",
   "mimetype": "text/x-python",
   "name": "python",
   "nbconvert_exporter": "python",
   "pygments_lexer": "ipython3",
   "version": "3.7.3"
  }
 },
 "nbformat": 4,
 "nbformat_minor": 2
}
