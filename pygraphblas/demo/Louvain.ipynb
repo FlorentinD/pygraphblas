{
 "cells": [
  {
   "cell_type": "code",
   "execution_count": 1,
   "metadata": {},
   "outputs": [],
   "source": [
    "from pygraphblas import *\n",
    "from itertools import repeat\n",
    "import random"
   ]
  },
  {
   "cell_type": "code",
   "execution_count": 2,
   "metadata": {},
   "outputs": [],
   "source": [
    "M = Matrix.from_lists(\n",
    "    [0, 0, 0, 0,\n",
    "    1, 1, 1, 1,\n",
    "    2, 2, 2, 2,\n",
    "    3, 3, 3, 3,\n",
    "    4, 4, 4, 4,\n",
    "    5, 5, 5, 5, 5,\n",
    "    6, 6, 6,\n",
    "    7, 7, 7, 7],\n",
    "    [0, 2, 3, 6,\n",
    "    1, 2, 3, 7,\n",
    "    0, 2, 4, 6,\n",
    "    0, 1, 3, 5,\n",
    "    0, 2, 4, 6,\n",
    "    1, 3, 5, 6, 7,\n",
    "    0, 4, 6,\n",
    "    1, 3, 5, 7],\n",
    "    list(repeat(1.0, 32)))\n",
    "\n",
    "@unary_op(FP64)  \n",
    "def random_scaler(x):  \n",
    "    return random.random() * x + 0.0001"
   ]
  },
  {
   "cell_type": "code",
   "execution_count": 3,
   "metadata": {},
   "outputs": [],
   "source": [
    "def louvain_cluster(graph, max_iters=20):\n",
    "    if not graph.square:\n",
    "        raise lib.DimensionMismatch('First input matrix must be square.')\n",
    "    rows = graph.nrows\n",
    "    ApAT = graph.transpose()\n",
    "    k = graph.reduce_vector()\n",
    "    m = k.reduce_int() / 2.0    \n",
    "    S = Matrix.identity(BOOL, rows)\n",
    "    S_row = Vector.from_type(BOOL, rows)\n",
    "    mask = Vector.dense(BOOL, rows)\n",
    "    \n",
    "    vertices_changed = True\n",
    "    iters = 0\n",
    "    while vertices_changed and iters < max_iters:\n",
    "        vertices_changed = False\n",
    "        for i in range(rows):\n",
    "            if i in k:\n",
    "                S.extract_vector(i, out=S_row, desc=descriptor.tooo)\n",
    "                Mask = Matrix.from_type(BOOL, rows, rows)\n",
    "                Mask[i,:] = mask\n",
    "                S.apply(identity, out=S, mask=Mask, desc=descriptor.oocr)\n",
    "                v = ApAT[:,i]\n",
    "                w = v.dup()\n",
    "                w.assign_scalar(-k[i]/m, accum=times)\n",
    "                v += w\n",
    "                q = v @ S\n",
    "                kappa = q.reduce_float(max_monoid)\n",
    "                t = q[(q == kappa).nonzero()]\n",
    "                while len(t) != 1:\n",
    "                    p = t.apply(random_scaler)\n",
    "                    max_p = p.reduce_float(max_monoid)\n",
    "                    t = q[(p == max_p).nonzero()]\n",
    "                S[i,:] = t\n",
    "                if not t.iseq(S_row):\n",
    "                    vertices_changed = True\n",
    "        iters += 1\n",
    "    return S\n",
    "\n",
    "def get_louvain_cluster_assignments(cluster_matrix):\n",
    "    clusters = Vector.from_type(UINT64, cluster_matrix.nrows)\n",
    "    index_of_vec = Vector.from_type(UINT64, cluster_matrix.ncols)\n",
    "    for i in range(cluster_matrix.nrows):\n",
    "        index_of_vec[i] = i\n",
    "    cluster_matrix.mxv(index_of_vec, out=clusters, semiring=max_second_uint64)\n",
    "    return clusters"
   ]
  },
  {
   "cell_type": "code",
   "execution_count": 4,
   "metadata": {
    "scrolled": false
   },
   "outputs": [
    {
     "data": {
      "text/plain": [
       "[[0, 1, 2, 3, 4, 5, 6, 7], [6, 3, 6, 3, 6, 3, 6, 3]]"
      ]
     },
     "execution_count": 4,
     "metadata": {},
     "output_type": "execute_result"
    }
   ],
   "source": [
    "ans = louvain_cluster(M, 10)\n",
    "get_louvain_cluster_assignments(ans).to_lists()"
   ]
  },
  {
   "cell_type": "code",
   "execution_count": 5,
   "metadata": {},
   "outputs": [],
   "source": [
    "with open('simulated_blockmodel_graph_50_nodes.tsv') as challenge:\n",
    "    N = Matrix.from_tsv(challenge, FP64, 50, 50)"
   ]
  },
  {
   "cell_type": "code",
   "execution_count": 8,
   "metadata": {
    "scrolled": false
   },
   "outputs": [
    {
     "name": "stdout",
     "output_type": "stream",
     "text": [
      "[[0, 1, 2, 3, 4, 5, 6, 7, 8, 9, 10, 11, 12, 13, 14, 15, 16, 17, 18, 19, 20, 21, 22, 23, 24, 25, 26, 27, 28, 29, 30, 31, 32, 33, 34, 35, 36, 37, 38, 39, 40, 41, 42, 43, 44, 45, 46, 47, 48, 49], [41, 31, 31, 41, 46, 31, 41, 31, 46, 31, 41, 31, 31, 31, 31, 31, 41, 31, 46, 41, 31, 41, 46, 31, 46, 31, 41, 31, 46, 46, 31, 31, 31, 46, 41, 41, 31, 46, 46, 41, 41, 41, 46, 46, 41, 46, 46, 46, 46, 31]]\n"
     ]
    }
   ],
   "source": [
    "from pygraphblas.demo.gviz import draw\n",
    "labels = get_louvain_cluster_assignments(louvain_cluster(N, 10))\n",
    "print(labels.to_lists())"
   ]
  },
  {
   "cell_type": "code",
   "execution_count": null,
   "metadata": {},
   "outputs": [],
   "source": []
  }
 ],
 "metadata": {
  "kernelspec": {
   "display_name": "Python 3",
   "language": "python",
   "name": "python3"
  },
  "language_info": {
   "codemirror_mode": {
    "name": "ipython",
    "version": 3
   },
   "file_extension": ".py",
   "mimetype": "text/x-python",
   "name": "python",
   "nbconvert_exporter": "python",
   "pygments_lexer": "ipython3",
   "version": "3.7.3"
  }
 },
 "nbformat": 4,
 "nbformat_minor": 2
}
