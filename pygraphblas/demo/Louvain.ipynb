{
 "cells": [
  {
   "cell_type": "code",
   "execution_count": 1,
   "metadata": {},
   "outputs": [],
   "source": [
    "from pygraphblas import *\n",
    "from itertools import repeat\n",
    "import random\n",
    "random.seed(11)"
   ]
  },
  {
   "cell_type": "code",
   "execution_count": 2,
   "metadata": {},
   "outputs": [
    {
     "name": "stdout",
     "output_type": "stream",
     "text": [
      "\n",
      "typedef void (*_random_scaler_uop_function)(double*, double*);\n",
      "\n",
      "(float64*, float64*) -> none\n"
     ]
    }
   ],
   "source": [
    "M = Matrix.from_lists(\n",
    "    [0, 0, 0, 0,\n",
    "    1, 1, 1, 1,\n",
    "    2, 2, 2, 2,\n",
    "    3, 3, 3, 3,\n",
    "    4, 4, 4, 4,\n",
    "    5, 5, 5, 5, 5,\n",
    "    6, 6, 6,\n",
    "    7, 7, 7, 7],\n",
    "    [0, 2, 3, 6,\n",
    "    1, 2, 3, 7,\n",
    "    0, 2, 4, 6,\n",
    "    0, 1, 3, 5,\n",
    "    0, 2, 4, 6,\n",
    "    1, 3, 5, 6, 7,\n",
    "    0, 4, 6,\n",
    "    1, 3, 5, 7],\n",
    "    list(repeat(1.0, 32)))\n",
    "\n",
    "@uop(FP64)  \n",
    "def random_scaler(x):  \n",
    "    return random.random() * x + 0.0001"
   ]
  },
  {
   "cell_type": "code",
   "execution_count": 3,
   "metadata": {},
   "outputs": [],
   "source": [
    "def louvain_cluster(graph, max_iters=2):\n",
    "    if not graph.square:\n",
    "        raise lib.DimensionMismatch('First input matrix must be square.')\n",
    "    rows = graph.nrows\n",
    "    \n",
    "    ApAT = graph.transpose()\n",
    "    k = graph.reduce_vector()\n",
    "    m = k.reduce_int() / 2.0   \n",
    "    print(m, k)\n",
    "    \n",
    "    S = Matrix.identity(BOOL, rows)\n",
    "    S_row = Vector.from_type(BOOL, rows)\n",
    "    mask = Vector.dense(BOOL, rows)\n",
    "    \n",
    "    vertices_changed = True\n",
    "    iters = 0\n",
    "    while vertices_changed and iters < max_iters:\n",
    "        vertices_changed = False\n",
    "        for i in range(rows):\n",
    "            if i in k:\n",
    "                print('===Start of vertex: ', i)\n",
    "                S.extract_vector(i, out=S_row, desc=descriptor.tooo)\n",
    "                Mask = Matrix.from_type(BOOL, rows, rows)\n",
    "                Mask[i,:] = mask\n",
    "                S.apply(lib.GrB_IDENTITY_BOOL, out=S, mask=Mask, desc=descriptor.oocr)\n",
    "                v = ApAT[:,i]\n",
    "                w = v.dup()\n",
    "                w.assign_scalar(-k[i]/m, accum=times)\n",
    "                v += w\n",
    "                q = v @ S\n",
    "                print(q.to_lists(), \"modularity changed\")\n",
    "                kappa = q.reduce_float(monoid=lib.GxB_MAX_FP64_MONOID)\n",
    "                t = (q == kappa)\n",
    "                t = t.nonzero()\n",
    "                while False: # len(t) != 1:\n",
    "                    print('breaking ties')\n",
    "                    p = t.apply(random_scaler)\n",
    "                    max_p = p.reduce_float(monoid=lib.GxB_MAX_FP64_MONOID)\n",
    "                    t = (q == max_p)\n",
    "                    t = t.nonzero()\n",
    "                S[i,:] = q[t]\n",
    "                if t != S_row:\n",
    "                    vertices_changed = True\n",
    "                    print('new S')\n",
    "                else:\n",
    "                    print('No change.')\n",
    "                print('end of vertex', i)\n",
    "        iters += 1\n",
    "    return S"
   ]
  },
  {
   "cell_type": "code",
   "execution_count": 4,
   "metadata": {},
   "outputs": [
    {
     "name": "stdout",
     "output_type": "stream",
     "text": [
      "16.0 <Vector (8: 8)>\n",
      "===Start of vertex:  0\n",
      "[[1, 2, 3, 4, 5, 6, 7], [-0.25, 0.75, 0.75, -0.25, -0.25, 0.75, -0.25]] modularity changed\n",
      "new S\n",
      "end of vertex 0\n",
      "===Start of vertex:  1\n",
      "[[2, 3, 4, 5, 6, 7], [0.5, 0.5, -0.25, -0.25, -0.5, 0.75]] modularity changed\n",
      "new S\n",
      "end of vertex 1\n",
      "===Start of vertex:  2\n",
      "[[2, 3, 4, 5, 6, 7], [0.75, 0.5, 0.75, -0.25, 1.5, -0.5]] modularity changed\n",
      "new S\n",
      "end of vertex 2\n",
      "===Start of vertex:  3\n",
      "[[2, 3, 4, 5, 6, 7], [0.75, 0.75, -0.25, 0.75, 0.25, 0.5]] modularity changed\n",
      "new S\n",
      "end of vertex 3\n",
      "===Start of vertex:  4\n",
      "[[2, 3, 5, 6, 7], [0.5, 0.5, -0.5, 2.25, -0.5]] modularity changed\n",
      "new S\n",
      "end of vertex 4\n",
      "===Start of vertex:  5\n",
      "[[2, 3, 5, 6, 7], [0.375, 0.375, 0.6875, -0.25, 1.375]] modularity changed\n",
      "new S\n",
      "end of vertex 5\n",
      "===Start of vertex:  6\n",
      "[[2, 3, 5, 6, 7], [0.625, 0.625, -0.1875, 1.4375, -0.5625]] modularity changed\n",
      "new S\n",
      "end of vertex 6\n",
      "===Start of vertex:  7\n",
      "[[2, 3, 5, 6, 7], [0.5, 0.5, 0.75, -1.0, 1.5]] modularity changed\n",
      "new S\n",
      "end of vertex 7\n",
      "===Start of vertex:  0\n",
      "[[2, 3, 5, 6, 7], [0.75, 0.75, 0.75, 1.25, -0.75]] modularity changed\n",
      "new S\n",
      "end of vertex 0\n",
      "===Start of vertex:  1\n",
      "[[2, 3, 5, 6, 7], [0.75, 0.75, 0.75, 0.0, 0.5]] modularity changed\n",
      "new S\n",
      "end of vertex 1\n",
      "===Start of vertex:  2\n",
      "[[2, 3, 5, 6, 7], [-0.5, -0.5, -0.5, 2.25, -0.5]] modularity changed\n",
      "new S\n",
      "end of vertex 2\n",
      "===Start of vertex:  3\n",
      "[[2, 3, 5, 6, 7], [0.75, 0.75, 0.75, 0.0, 0.5]] modularity changed\n",
      "new S\n",
      "end of vertex 3\n",
      "===Start of vertex:  4\n",
      "[[2, 3, 5, 6, 7], [-0.5, -0.5, -0.5, 2.25, -0.5]] modularity changed\n",
      "new S\n",
      "end of vertex 4\n",
      "===Start of vertex:  5\n",
      "[[2, 3, 5, 6, 7], [1.375, 1.375, 1.375, -0.25, 0.6875]] modularity changed\n",
      "new S\n",
      "end of vertex 5\n",
      "===Start of vertex:  6\n",
      "[[2, 3, 5, 6, 7], [-0.5625, -0.5625, -0.5625, 1.4375, -0.1875]] modularity changed\n",
      "new S\n",
      "end of vertex 6\n",
      "===Start of vertex:  7\n",
      "[[2, 3, 5, 6], [2.25, 2.25, 2.25, -1.0]] modularity changed\n",
      "new S\n",
      "end of vertex 7\n"
     ]
    }
   ],
   "source": [
    "ans = louvain_cluster(M)"
   ]
  },
  {
   "cell_type": "code",
   "execution_count": 5,
   "metadata": {},
   "outputs": [
    {
     "data": {
      "text/plain": [
       "[[0, 1, 1, 1, 2, 3, 3, 3, 4, 5, 5, 5, 6, 7, 7, 7],\n",
       " [6, 2, 3, 5, 6, 2, 3, 5, 6, 2, 3, 5, 6, 2, 3, 5],\n",
       " [True,\n",
       "  True,\n",
       "  True,\n",
       "  True,\n",
       "  True,\n",
       "  True,\n",
       "  True,\n",
       "  True,\n",
       "  True,\n",
       "  True,\n",
       "  True,\n",
       "  True,\n",
       "  True,\n",
       "  True,\n",
       "  True,\n",
       "  True]]"
      ]
     },
     "execution_count": 5,
     "metadata": {},
     "output_type": "execute_result"
    }
   ],
   "source": [
    "ans.to_lists()"
   ]
  }
 ],
 "metadata": {
  "kernelspec": {
   "display_name": "Python 3",
   "language": "python",
   "name": "python3"
  },
  "language_info": {
   "codemirror_mode": {
    "name": "ipython",
    "version": 3
   },
   "file_extension": ".py",
   "mimetype": "text/x-python",
   "name": "python",
   "nbconvert_exporter": "python",
   "pygments_lexer": "ipython3",
   "version": "3.7.3"
  }
 },
 "nbformat": 4,
 "nbformat_minor": 2
}
