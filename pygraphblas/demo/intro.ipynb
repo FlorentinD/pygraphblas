{
 "cells": [
  {
   "cell_type": "code",
   "execution_count": 106,
   "metadata": {
    "scrolled": false
   },
   "outputs": [
    {
     "data": {
      "text/html": [
       "\n",
       "        <iframe\n",
       "            width=\"100%\"\n",
       "            height=\"500px\"\n",
       "            src=\"got.html\"\n",
       "            frameborder=\"0\"\n",
       "            allowfullscreen\n",
       "        ></iframe>\n",
       "        "
      ],
      "text/plain": [
       "<IPython.lib.display.IFrame at 0x7f4a45ed56a0>"
      ]
     },
     "execution_count": 106,
     "metadata": {},
     "output_type": "execute_result"
    }
   ],
   "source": [
    "from itertools import product, repeat\n",
    "from pyvis.network import Network\n",
    "from pygraphblas import Matrix, lib\n",
    "from matplotlib.pyplot import cm\n",
    "from operator import mod\n",
    "\n",
    "net = Network(width=\"100%\", bgcolor=\"#222222\", font_color=\"white\", notebook=True)\n",
    "net.barnes_hut()\n",
    "\n",
    "M = []\n",
    "for _ in range(10):\n",
    "    m = Matrix.from_type(lib.GrB_UINT8, 16, 16)\n",
    "    for (r, c), v in zip(product(range(16), repeat=2), repeat(0.1)):\n",
    "        m[r,c] = v\n",
    "    M.append(m)\n",
    "\n",
    "\n",
    "for l, m in enumerate(M):\n",
    "    for i, j, v in m:\n",
    "        i = str((l * m.nrows) + i)\n",
    "        j = str(((l + 1) * m.nrows) + j)\n",
    "        v = str(1 / (v + 1))\n",
    "        net.add_node(i, i, title=i)\n",
    "        net.add_node(j, j, title=j)\n",
    "        net.add_edge(i, j, value=v)\n",
    "\n",
    "\n",
    "net.show(\"got.html\")"
   ]
  },
  {
   "cell_type": "code",
   "execution_count": 98,
   "metadata": {},
   "outputs": [
    {
     "data": {
      "text/html": [
       "\n",
       "        <iframe\n",
       "            width=\"100%\"\n",
       "            height=\"500px\"\n",
       "            src=\"a.html\"\n",
       "            frameborder=\"0\"\n",
       "            allowfullscreen\n",
       "        ></iframe>\n",
       "        "
      ],
      "text/plain": [
       "<IPython.lib.display.IFrame at 0x7f4a46a87940>"
      ]
     },
     "execution_count": 98,
     "metadata": {},
     "output_type": "execute_result"
    }
   ],
   "source": [
    "M = Matrix.from_random(lib.GrB_BOOL, 8, 8, 16,\n",
    "#                       make_skew_symmetric=True, \n",
    "#                       make_symmetric=True, \n",
    "                       no_diagonal=True, \n",
    "                       seed=42)\n",
    "\n",
    "\n",
    "\n",
    "\n",
    "def s(matrix, net):\n",
    "    for i, j, v in matrix:\n",
    "        i = str(i)\n",
    "        j = str(j)\n",
    "        v = str(v)\n",
    "        net.add_node(i, i, title=i)\n",
    "        net.add_node(j, j, title=j)\n",
    "        net.add_edge(i, j, value=v)\n",
    "\n",
    "Mnet = Network(width=\"100%\", directed=True, notebook=True)\n",
    "Mnet.barnes_hut()    \n",
    "            \n",
    "s(M, Mnet)\n",
    "Mnet.show(\"a.html\")\n"
   ]
  },
  {
   "cell_type": "code",
   "execution_count": 99,
   "metadata": {},
   "outputs": [
    {
     "data": {
      "text/html": [
       "\n",
       "        <iframe\n",
       "            width=\"100%\"\n",
       "            height=\"500px\"\n",
       "            src=\"a.html\"\n",
       "            frameborder=\"0\"\n",
       "            allowfullscreen\n",
       "        ></iframe>\n",
       "        "
      ],
      "text/plain": [
       "<IPython.lib.display.IFrame at 0x7f4a46b6c128>"
      ]
     },
     "execution_count": 99,
     "metadata": {},
     "output_type": "execute_result"
    }
   ],
   "source": [
    "from pygraphblas import semiring\n",
    "\n",
    "with semiring.lor_land:\n",
    "    N = M @ M\n",
    "\n",
    "Nnet = Network(width=\"100%\", directed=True, notebook=True)\n",
    "Nnet.barnes_hut()    \n",
    "            \n",
    "s(M, Nnet)\n",
    "Nnet.show(\"a.html\")\n"
   ]
  },
  {
   "cell_type": "code",
   "execution_count": 101,
   "metadata": {},
   "outputs": [
    {
     "data": {
      "text/html": [
       "\n",
       "        <iframe\n",
       "            width=\"100%\"\n",
       "            height=\"500px\"\n",
       "            src=\"a.html\"\n",
       "            frameborder=\"0\"\n",
       "            allowfullscreen\n",
       "        ></iframe>\n",
       "        "
      ],
      "text/plain": [
       "<IPython.lib.display.IFrame at 0x7f4a4636af98>"
      ]
     },
     "execution_count": 101,
     "metadata": {},
     "output_type": "execute_result"
    }
   ],
   "source": [
    "J = Matrix.from_lists(\n",
    "    [0, 0, 1, 3, 3, 4, 5],\n",
    "    [1, 3, 2, 4, 5, 2, 4],\n",
    "    [9, 3, 8, 6, 1, 4, 2])\n",
    "\n",
    "Nnet = Network(width=\"100%\", directed=True, notebook=True)\n",
    "Nnet.barnes_hut()    \n",
    "            \n",
    "s(J, Nnet)\n",
    "Nnet.show(\"a.html\")\n"
   ]
  },
  {
   "cell_type": "code",
   "execution_count": null,
   "metadata": {},
   "outputs": [],
   "source": []
  }
 ],
 "metadata": {
  "celltoolbar": "Slideshow",
  "kernelspec": {
   "display_name": "Python 3",
   "language": "python",
   "name": "python3"
  },
  "language_info": {
   "codemirror_mode": {
    "name": "ipython",
    "version": 3
   },
   "file_extension": ".py",
   "mimetype": "text/x-python",
   "name": "python",
   "nbconvert_exporter": "python",
   "pygments_lexer": "ipython3",
   "version": "3.7.3"
  }
 },
 "nbformat": 4,
 "nbformat_minor": 2
}
