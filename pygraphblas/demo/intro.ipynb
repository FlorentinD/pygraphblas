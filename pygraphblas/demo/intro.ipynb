{
 "cells": [
  {
   "cell_type": "code",
   "execution_count": 3,
   "metadata": {},
   "outputs": [],
   "source": [
    "from numba import cfunc\n",
    "from numba.types import Record, CPointer, void, double, uint64\n",
    "from pygraphblas import Matrix, BinaryOp, lib, ffi as gbffi\n",
    "from cffi import FFI\n"
   ]
  },
  {
   "cell_type": "code",
   "execution_count": 10,
   "metadata": {},
   "outputs": [
    {
     "ename": "KeyError",
     "evalue": "<cdata 'struct GB_Type_opaque *' 0x5639d26c4d00>",
     "output_type": "error",
     "traceback": [
      "\u001b[0;31m---------------------------------------------------------------------------\u001b[0m",
      "\u001b[0;31mKeyError\u001b[0m                                  Traceback (most recent call last)",
      "\u001b[0;32m/opt/conda/lib/python3.7/site-packages/IPython/core/formatters.py\u001b[0m in \u001b[0;36m__call__\u001b[0;34m(self, obj)\u001b[0m\n\u001b[1;32m    700\u001b[0m                 \u001b[0mtype_pprinters\u001b[0m\u001b[0;34m=\u001b[0m\u001b[0mself\u001b[0m\u001b[0;34m.\u001b[0m\u001b[0mtype_printers\u001b[0m\u001b[0;34m,\u001b[0m\u001b[0;34m\u001b[0m\u001b[0;34m\u001b[0m\u001b[0m\n\u001b[1;32m    701\u001b[0m                 deferred_pprinters=self.deferred_printers)\n\u001b[0;32m--> 702\u001b[0;31m             \u001b[0mprinter\u001b[0m\u001b[0;34m.\u001b[0m\u001b[0mpretty\u001b[0m\u001b[0;34m(\u001b[0m\u001b[0mobj\u001b[0m\u001b[0;34m)\u001b[0m\u001b[0;34m\u001b[0m\u001b[0;34m\u001b[0m\u001b[0m\n\u001b[0m\u001b[1;32m    703\u001b[0m             \u001b[0mprinter\u001b[0m\u001b[0;34m.\u001b[0m\u001b[0mflush\u001b[0m\u001b[0;34m(\u001b[0m\u001b[0;34m)\u001b[0m\u001b[0;34m\u001b[0m\u001b[0;34m\u001b[0m\u001b[0m\n\u001b[1;32m    704\u001b[0m             \u001b[0;32mreturn\u001b[0m \u001b[0mstream\u001b[0m\u001b[0;34m.\u001b[0m\u001b[0mgetvalue\u001b[0m\u001b[0;34m(\u001b[0m\u001b[0;34m)\u001b[0m\u001b[0;34m\u001b[0m\u001b[0;34m\u001b[0m\u001b[0m\n",
      "\u001b[0;32m/opt/conda/lib/python3.7/site-packages/IPython/lib/pretty.py\u001b[0m in \u001b[0;36mpretty\u001b[0;34m(self, obj)\u001b[0m\n\u001b[1;32m    397\u001b[0m                         \u001b[0;32mif\u001b[0m \u001b[0mcls\u001b[0m \u001b[0;32mis\u001b[0m \u001b[0;32mnot\u001b[0m \u001b[0mobject\u001b[0m\u001b[0;31m \u001b[0m\u001b[0;31m\\\u001b[0m\u001b[0;34m\u001b[0m\u001b[0;34m\u001b[0m\u001b[0m\n\u001b[1;32m    398\u001b[0m                                 \u001b[0;32mand\u001b[0m \u001b[0mcallable\u001b[0m\u001b[0;34m(\u001b[0m\u001b[0mcls\u001b[0m\u001b[0;34m.\u001b[0m\u001b[0m__dict__\u001b[0m\u001b[0;34m.\u001b[0m\u001b[0mget\u001b[0m\u001b[0;34m(\u001b[0m\u001b[0;34m'__repr__'\u001b[0m\u001b[0;34m)\u001b[0m\u001b[0;34m)\u001b[0m\u001b[0;34m:\u001b[0m\u001b[0;34m\u001b[0m\u001b[0;34m\u001b[0m\u001b[0m\n\u001b[0;32m--> 399\u001b[0;31m                             \u001b[0;32mreturn\u001b[0m \u001b[0m_repr_pprint\u001b[0m\u001b[0;34m(\u001b[0m\u001b[0mobj\u001b[0m\u001b[0;34m,\u001b[0m \u001b[0mself\u001b[0m\u001b[0;34m,\u001b[0m \u001b[0mcycle\u001b[0m\u001b[0;34m)\u001b[0m\u001b[0;34m\u001b[0m\u001b[0;34m\u001b[0m\u001b[0m\n\u001b[0m\u001b[1;32m    400\u001b[0m \u001b[0;34m\u001b[0m\u001b[0m\n\u001b[1;32m    401\u001b[0m             \u001b[0;32mreturn\u001b[0m \u001b[0m_default_pprint\u001b[0m\u001b[0;34m(\u001b[0m\u001b[0mobj\u001b[0m\u001b[0;34m,\u001b[0m \u001b[0mself\u001b[0m\u001b[0;34m,\u001b[0m \u001b[0mcycle\u001b[0m\u001b[0;34m)\u001b[0m\u001b[0;34m\u001b[0m\u001b[0;34m\u001b[0m\u001b[0m\n",
      "\u001b[0;32m/opt/conda/lib/python3.7/site-packages/IPython/lib/pretty.py\u001b[0m in \u001b[0;36m_repr_pprint\u001b[0;34m(obj, p, cycle)\u001b[0m\n\u001b[1;32m    687\u001b[0m     \u001b[0;34m\"\"\"A pprint that just redirects to the normal repr function.\"\"\"\u001b[0m\u001b[0;34m\u001b[0m\u001b[0;34m\u001b[0m\u001b[0m\n\u001b[1;32m    688\u001b[0m     \u001b[0;31m# Find newlines and replace them with p.break_()\u001b[0m\u001b[0;34m\u001b[0m\u001b[0;34m\u001b[0m\u001b[0;34m\u001b[0m\u001b[0m\n\u001b[0;32m--> 689\u001b[0;31m     \u001b[0moutput\u001b[0m \u001b[0;34m=\u001b[0m \u001b[0mrepr\u001b[0m\u001b[0;34m(\u001b[0m\u001b[0mobj\u001b[0m\u001b[0;34m)\u001b[0m\u001b[0;34m\u001b[0m\u001b[0;34m\u001b[0m\u001b[0m\n\u001b[0m\u001b[1;32m    690\u001b[0m     \u001b[0;32mfor\u001b[0m \u001b[0midx\u001b[0m\u001b[0;34m,\u001b[0m\u001b[0moutput_line\u001b[0m \u001b[0;32min\u001b[0m \u001b[0menumerate\u001b[0m\u001b[0;34m(\u001b[0m\u001b[0moutput\u001b[0m\u001b[0;34m.\u001b[0m\u001b[0msplitlines\u001b[0m\u001b[0;34m(\u001b[0m\u001b[0;34m)\u001b[0m\u001b[0;34m)\u001b[0m\u001b[0;34m:\u001b[0m\u001b[0;34m\u001b[0m\u001b[0;34m\u001b[0m\u001b[0m\n\u001b[1;32m    691\u001b[0m         \u001b[0;32mif\u001b[0m \u001b[0midx\u001b[0m\u001b[0;34m:\u001b[0m\u001b[0;34m\u001b[0m\u001b[0;34m\u001b[0m\u001b[0m\n",
      "\u001b[0;32m~/pygraphblas/matrix.py\u001b[0m in \u001b[0;36m__repr__\u001b[0;34m(self)\u001b[0m\n\u001b[1;32m   1016\u001b[0m             \u001b[0mself\u001b[0m\u001b[0;34m.\u001b[0m\u001b[0mncols\u001b[0m\u001b[0;34m,\u001b[0m\u001b[0;34m\u001b[0m\u001b[0;34m\u001b[0m\u001b[0m\n\u001b[1;32m   1017\u001b[0m             \u001b[0mself\u001b[0m\u001b[0;34m.\u001b[0m\u001b[0mnvals\u001b[0m\u001b[0;34m,\u001b[0m\u001b[0;34m\u001b[0m\u001b[0;34m\u001b[0m\u001b[0m\n\u001b[0;32m-> 1018\u001b[0;31m             type_name(self.gb_type))\n\u001b[0m",
      "\u001b[0;32m~/pygraphblas/type_funcs.py\u001b[0m in \u001b[0;36mtype_name\u001b[0;34m(typ)\u001b[0m\n\u001b[1;32m     46\u001b[0m \u001b[0;34m\u001b[0m\u001b[0m\n\u001b[1;32m     47\u001b[0m \u001b[0;32mdef\u001b[0m \u001b[0mtype_name\u001b[0m\u001b[0;34m(\u001b[0m\u001b[0mtyp\u001b[0m\u001b[0;34m)\u001b[0m\u001b[0;34m:\u001b[0m\u001b[0;34m\u001b[0m\u001b[0;34m\u001b[0m\u001b[0m\n\u001b[0;32m---> 48\u001b[0;31m     \u001b[0;32mreturn\u001b[0m \u001b[0m_type_maps\u001b[0m\u001b[0;34m[\u001b[0m\u001b[0mtyp\u001b[0m\u001b[0;34m]\u001b[0m\u001b[0;34m[\u001b[0m\u001b[0;36m1\u001b[0m\u001b[0;34m]\u001b[0m\u001b[0;34m\u001b[0m\u001b[0;34m\u001b[0m\u001b[0m\n\u001b[0m\u001b[1;32m     49\u001b[0m \u001b[0;34m\u001b[0m\u001b[0m\n\u001b[1;32m     50\u001b[0m \u001b[0;32mdef\u001b[0m \u001b[0mbuild_matrix_type_funcs\u001b[0m\u001b[0;34m(\u001b[0m\u001b[0mtyp\u001b[0m\u001b[0;34m)\u001b[0m\u001b[0;34m:\u001b[0m\u001b[0;34m\u001b[0m\u001b[0;34m\u001b[0m\u001b[0m\n",
      "\u001b[0;31mKeyError\u001b[0m: <cdata 'struct GB_Type_opaque *' 0x5639d26c4d00>"
     ]
    }
   ],
   "source": [
    "\n",
    "src = \"\"\"\n",
    "typedef struct BF_tuple {\n",
    "    double    w;\n",
    "    uint64_t  h;\n",
    "    uint64_t pi;\n",
    "} BF_tuple;\n",
    "\n",
    "typedef void (*bf_min)(BF_tuple*, BF_tuple*, BF_tuple*);\n",
    "typedef void (*bf_plus)(BF_tuple*, BF_tuple*, BF_tuple*);\n",
    "\n",
    "#define INFINITY ...\n",
    "\"\"\"\n",
    "from numba import cfunc, carray\n",
    "from numba import cffi_support\n",
    "\n",
    "ffi = FFI()\n",
    "ffi.cdef(src)\n",
    "ffi.set_source('_bf', \"\"\"\n",
    "#include <math.h>\n",
    "#include <stdint.h>\n",
    "\"\"\")\n",
    "\n",
    "def new_tuple(w, h, pi):\n",
    "    data = ffi.new('BF_tuple[1]')\n",
    "    ptr = ffi.cast('BF_tuple*', data)\n",
    "    ptr[0].w = w\n",
    "    ptr[0].h = h\n",
    "    ptr[0].pi = pi\n",
    "    addr = int(ffi.cast('size_t', ptr))\n",
    "    return addr\n",
    "    \n",
    "cffi_support.map_type(ffi.typeof('BF_tuple'), use_record_dtype=True)\n",
    "min_sig = cffi_support.map_type(ffi.typeof('bf_min'), use_record_dtype=True)\n",
    "plus_sig = cffi_support.map_type(ffi.typeof('bf_plus'), use_record_dtype=True)\n",
    "\n",
    "@cfunc(min_sig)\n",
    "def bf_min(z_, x_, y_):\n",
    "    z = carray(z_, 1)[0]\n",
    "    x = carray(x_, 1)[0]\n",
    "    y = carray(y_, 1)[0]\n",
    "    z.w = x.w if x.w < y.w else y.w\n",
    "\n",
    "@cfunc(plus_sig)\n",
    "def bf_plus(z_, x_, y_):\n",
    "    z = carray(z_, 1)[0]\n",
    "    x = carray(x_, 1)[0]\n",
    "    y = carray(y_, 1)[0]\n",
    "    z.w = x.w - y.w\n",
    "    \n",
    "def new_udt(name):\n",
    "    t = gbffi.new('GrB_Type*')\n",
    "    lib.GrB_Type_new(t, ffi.sizeof(name))\n",
    "    return t\n",
    "\n",
    "bf = new_udt('BF_tuple')\n",
    "\n",
    "def new_binop(func, typ):\n",
    "    o = gbffi.new('GrB_BinaryOp*')\n",
    "    typ = typ[0]\n",
    "    lib.GrB_BinaryOp_new(o, gbffi.cast('GxB_binary_function', func.address), typ, typ, typ)\n",
    "    return o\n",
    "\n",
    "op = new_binop(bf_plus, bf)\n",
    "\n",
    "op = BinaryOp('plus', 'bf', op[0])\n",
    "\n",
    "A = Matrix.from_type(bf[0], 10, 10)\n",
    "B = Matrix.from_type(bf[0], 10, 10)\n",
    "\n",
    "z = new_tuple(0.1, 1, 1)\n",
    "x = new_tuple(0.2, 2, 2)\n",
    "y = new_tuple(0.3, 3, 3)\n",
    "\n",
    "A[0,0] = z\n",
    "B[1,1] = x\n",
    "\n",
    "with op:\n",
    "    print((A + B).nvals)"
   ]
  },
  {
   "cell_type": "code",
   "execution_count": 9,
   "metadata": {},
   "outputs": [
    {
     "ename": "AttributeError",
     "evalue": "'FFI' object has no attribute 'INFINITY'",
     "output_type": "error",
     "traceback": [
      "\u001b[0;31m---------------------------------------------------------------------------\u001b[0m",
      "\u001b[0;31mAttributeError\u001b[0m                            Traceback (most recent call last)",
      "\u001b[0;32m<ipython-input-9-1e0c9c2c877d>\u001b[0m in \u001b[0;36m<module>\u001b[0;34m\u001b[0m\n\u001b[0;32m----> 1\u001b[0;31m \u001b[0mffi\u001b[0m\u001b[0;34m.\u001b[0m\u001b[0mINFINITY\u001b[0m\u001b[0;34m\u001b[0m\u001b[0;34m\u001b[0m\u001b[0m\n\u001b[0m",
      "\u001b[0;31mAttributeError\u001b[0m: 'FFI' object has no attribute 'INFINITY'"
     ]
    }
   ],
   "source": [
    "ffi.INFINITY"
   ]
  },
  {
   "cell_type": "code",
   "execution_count": 58,
   "metadata": {},
   "outputs": [
    {
     "data": {
      "text/plain": [
       "False"
      ]
     },
     "execution_count": 58,
     "metadata": {},
     "output_type": "execute_result"
    }
   ],
   "source": [
    "double.reflected"
   ]
  },
  {
   "cell_type": "code",
   "execution_count": 60,
   "metadata": {},
   "outputs": [
    {
     "name": "stdout",
     "output_type": "stream",
     "text": [
      "(123, 3.140000104904175)\n",
      "modify the obj\n",
      "(12300, 3.140000104904175) [(12300, 3.14)]\n",
      "modify the array\n",
      "(12300, 6.28000020980835) [(12300, 6.28)]\n"
     ]
    }
   ],
   "source": [
    "\"\"\"\n",
    "Demonstrate potential numba feature for casting an arbitrary pointer into\n",
    "a jitclass instance.\n",
    "\"\"\"\n",
    "\n",
    "from collections import OrderedDict\n",
    "\n",
    "import numpy as np\n",
    "\n",
    "from numba import njit, jitclass, types\n",
    "from numba import extending\n",
    "from numba import cgutils\n",
    "\n",
    "#\n",
    "# Implement the core logic of the casting function.\n",
    "#\n",
    "\n",
    "\n",
    "def _unsafe_cast_ptr_to_class(int_type, class_type):\n",
    "    inst_typ = class_type.instance_type\n",
    "    sig = inst_typ(types.voidptr, class_type)\n",
    "\n",
    "    def codegen(context, builder, signature, args):\n",
    "        ptr, _ = args\n",
    "        alloc_type = context.get_data_type(inst_typ.get_data_type())\n",
    "\n",
    "        inst_struct = context.make_helper(builder, inst_typ)\n",
    "        # Set meminfo to NULL\n",
    "        inst_struct.meminfo = cgutils.get_null_value(inst_struct.meminfo.type)\n",
    "        # Set data from the given pointer\n",
    "        inst_struct.data = builder.bitcast(ptr, alloc_type.as_pointer())\n",
    "\n",
    "        return inst_struct._getvalue()\n",
    "\n",
    "    return sig, codegen\n",
    "\n",
    "#\n",
    "# Make an intrinsic for our unsafe_cast function\n",
    "#\n",
    "\n",
    "@extending.intrinsic\n",
    "def unsafe_cast(typingctx, src, dst):\n",
    "    # This is the typing logic\n",
    "    if isinstance(src, types.Integer) and isinstance(dst, types.ClassType):\n",
    "        # This defines the codegen logic\n",
    "        return _unsafe_cast_ptr_to_class(src, dst)\n",
    "    raise TypeError\n",
    "\n",
    "\n",
    "#\n",
    "# Make a class\n",
    "#\n",
    "\n",
    "spec = OrderedDict()\n",
    "spec['intval'] = types.int32\n",
    "spec['realval'] = types.float32\n",
    "\n",
    "\n",
    "@jitclass(spec)\n",
    "class Stuff(object):\n",
    "    def __init__(self, x, y):\n",
    "        self.intval = x\n",
    "        self.realval = y\n",
    "\n",
    "    def get(self):\n",
    "        return (self.intval, self.realval)\n",
    "\n",
    "#\n",
    "# A function to exercise our intrinsic and cast a pointer to a Stuff instance\n",
    "#\n",
    "\n",
    "\n",
    "@njit\n",
    "def foo(ptr):\n",
    "    # unsafe_cast is an intrinsic that can only be called inside a jit-ed function\n",
    "    return unsafe_cast(ptr, Stuff)\n",
    "\n",
    "\n",
    "def main():\n",
    "    ary = np.zeros(1, dtype=np.dtype([('x', 'int32'), ('y', 'float32')]))\n",
    "    ary[0]['x'] = 123\n",
    "    ary[0]['y'] = 3.14\n",
    "    ptr = ary.ctypes.data\n",
    "    obj = foo(ptr)\n",
    "\n",
    "    print(obj.get())\n",
    "\n",
    "    print('modify the obj')\n",
    "    obj.intval *= 100\n",
    "    print(obj.get(), ary)\n",
    "\n",
    "    print('modify the array')\n",
    "    ary[0]['y'] *= 2\n",
    "    print(obj.get(), ary)\n",
    "    return obj\n",
    "\n",
    "\n",
    "o = main()\n"
   ]
  },
  {
   "cell_type": "code",
   "execution_count": 69,
   "metadata": {},
   "outputs": [
    {
     "data": {
      "text/plain": [
       "<function __main__.Stuff.get(self)>"
      ]
     },
     "execution_count": 69,
     "metadata": {},
     "output_type": "execute_result"
    }
   ],
   "source": [
    "o._numba_type_.jitmethods['get'].py_func"
   ]
  },
  {
   "cell_type": "code",
   "execution_count": null,
   "metadata": {},
   "outputs": [],
   "source": []
  }
 ],
 "metadata": {
  "celltoolbar": "Slideshow",
  "kernelspec": {
   "display_name": "Python 3",
   "language": "python",
   "name": "python3"
  },
  "language_info": {
   "codemirror_mode": {
    "name": "ipython",
    "version": 3
   },
   "file_extension": ".py",
   "mimetype": "text/x-python",
   "name": "python",
   "nbconvert_exporter": "python",
   "pygments_lexer": "ipython3",
   "version": "3.7.3"
  }
 },
 "nbformat": 4,
 "nbformat_minor": 2
}
