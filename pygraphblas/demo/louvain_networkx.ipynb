{
 "cells": [
  {
   "cell_type": "code",
   "execution_count": 4,
   "metadata": {},
   "outputs": [],
   "source": [
    "import community\n",
    "import networkx as nx\n",
    "\n",
    "name = lambda v: \"louvain_data/simulated_blockmodel_graph_{}_nodes\".format(v)\n",
    "\n",
    "def make_dict(tup):\n",
    "    trued = {}\n",
    "    for n,c in tup:\n",
    "        trued.setdefault(c, []).append(n)\n",
    "    trued = { tuple(trued[c]):c for c in trued }\n",
    "    return trued\n"
   ]
  },
  {
   "cell_type": "code",
   "execution_count": 5,
   "metadata": {},
   "outputs": [],
   "source": [
    "def get_nodes_comm(name):\n",
    "    with open(name + \"_truePartition.tsv\", \"r\") as f:\n",
    "        truep = [tuple(map(int, l.split('\\t'))) for l in f]\n",
    "\n",
    "    G = nx.read_edgelist(name + \".tsv\", delimiter='\\t', data=(('weight', float),), create_using=nx.DiGraph())\n",
    "\n",
    "    partition = community.best_partition(G.to_undirected())\n",
    "    pl = [ (int(n), c) for n,c in list(partition.items()) ]\n",
    "    pl.sort()\n",
    "    return make_dict(truep), make_dict(pl)"
   ]
  },
  {
   "cell_type": "code",
   "execution_count": 6,
   "metadata": {},
   "outputs": [
    {
     "name": "stdout",
     "output_type": "stream",
     "text": [
      "Nodes:  50 \t->  True\n",
      "{(1, 4, 7, 11, 17, 20, 22, 24, 27, 35, 36, 40, 41, 42, 45): 2, (2, 3, 6, 8, 10, 12, 13, 14, 15, 16, 18, 21, 26, 28, 31, 32, 33, 37, 50): 1, (5, 9, 19, 23, 25, 29, 30, 34, 38, 39, 43, 44, 46, 47, 48, 49): 3}\n"
     ]
    }
   ],
   "source": [
    "for numv in [50]:\n",
    "    trued, pd = get_nodes_comm(name(numv))\n",
    "    print(\"Nodes: \", numv, \"\\t-> \", all(map(lambda t: t in trued, pd.keys())))\n",
    "    print(trued)"
   ]
  },
  {
   "cell_type": "code",
   "execution_count": null,
   "metadata": {},
   "outputs": [],
   "source": []
  }
 ],
 "metadata": {
  "kernelspec": {
   "display_name": "Python 3",
   "language": "python",
   "name": "python3"
  },
  "language_info": {
   "codemirror_mode": {
    "name": "ipython",
    "version": 3
   },
   "file_extension": ".py",
   "mimetype": "text/x-python",
   "name": "python",
   "nbconvert_exporter": "python",
   "pygments_lexer": "ipython3",
   "version": "3.7.3"
  }
 },
 "nbformat": 4,
 "nbformat_minor": 2
}
